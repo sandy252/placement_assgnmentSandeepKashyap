{
 "cells": [
  {
   "cell_type": "code",
   "execution_count": 45,
   "id": "63a35aa5",
   "metadata": {},
   "outputs": [],
   "source": [
    "import pandas as pd\n",
    "import numpy as np\n",
    "import matplotlib.pyplot as plt\n",
    "import seaborn as sns"
   ]
  },
  {
   "cell_type": "code",
   "execution_count": 97,
   "id": "30fbbf71",
   "metadata": {},
   "outputs": [],
   "source": [
    "df = pd.read_csv('meteorite_data_m.csv')"
   ]
  },
  {
   "cell_type": "code",
   "execution_count": 98,
   "id": "22c5ba68",
   "metadata": {},
   "outputs": [
    {
     "data": {
      "text/html": [
       "<div>\n",
       "<style scoped>\n",
       "    .dataframe tbody tr th:only-of-type {\n",
       "        vertical-align: middle;\n",
       "    }\n",
       "\n",
       "    .dataframe tbody tr th {\n",
       "        vertical-align: top;\n",
       "    }\n",
       "\n",
       "    .dataframe thead th {\n",
       "        text-align: right;\n",
       "    }\n",
       "</style>\n",
       "<table border=\"1\" class=\"dataframe\">\n",
       "  <thead>\n",
       "    <tr style=\"text-align: right;\">\n",
       "      <th></th>\n",
       "      <th>Name of Earth Meteorite</th>\n",
       "      <th>ID of Earth Meteorite</th>\n",
       "      <th>Name Type</th>\n",
       "      <th>Rec Class</th>\n",
       "      <th>Mass (g)</th>\n",
       "      <th>Year</th>\n",
       "      <th>Latitude</th>\n",
       "      <th>Longitude</th>\n",
       "    </tr>\n",
       "  </thead>\n",
       "  <tbody>\n",
       "    <tr>\n",
       "      <th>0</th>\n",
       "      <td>Aachen</td>\n",
       "      <td>1</td>\n",
       "      <td>Valid</td>\n",
       "      <td>L5</td>\n",
       "      <td>21.0</td>\n",
       "      <td>1880-01-01 00:00:00</td>\n",
       "      <td>50.77500</td>\n",
       "      <td>6.08333</td>\n",
       "    </tr>\n",
       "    <tr>\n",
       "      <th>1</th>\n",
       "      <td>Aarhus</td>\n",
       "      <td>2</td>\n",
       "      <td>Valid</td>\n",
       "      <td>H6</td>\n",
       "      <td>720.0</td>\n",
       "      <td>1951-01-01 00:00:00</td>\n",
       "      <td>56.18333</td>\n",
       "      <td>10.23333</td>\n",
       "    </tr>\n",
       "    <tr>\n",
       "      <th>2</th>\n",
       "      <td>Abee</td>\n",
       "      <td>6</td>\n",
       "      <td>Valid</td>\n",
       "      <td>EH4</td>\n",
       "      <td>107000.0</td>\n",
       "      <td>1952-01-01 00:00:00</td>\n",
       "      <td>54.21667</td>\n",
       "      <td>-113.00000</td>\n",
       "    </tr>\n",
       "    <tr>\n",
       "      <th>3</th>\n",
       "      <td>Acapulco</td>\n",
       "      <td>10</td>\n",
       "      <td>Valid</td>\n",
       "      <td>Acapulcoite</td>\n",
       "      <td>1914.0</td>\n",
       "      <td>1976-01-01 00:00:00</td>\n",
       "      <td>16.88333</td>\n",
       "      <td>-99.90000</td>\n",
       "    </tr>\n",
       "    <tr>\n",
       "      <th>4</th>\n",
       "      <td>Achiras</td>\n",
       "      <td>370</td>\n",
       "      <td>Valid</td>\n",
       "      <td>L6</td>\n",
       "      <td>780.0</td>\n",
       "      <td>1902-01-01 00:00:00</td>\n",
       "      <td>-33.16667</td>\n",
       "      <td>-64.95000</td>\n",
       "    </tr>\n",
       "  </tbody>\n",
       "</table>\n",
       "</div>"
      ],
      "text/plain": [
       "  Name of Earth Meteorite  ID of Earth Meteorite Name Type    Rec Class  \\\n",
       "0                  Aachen                      1     Valid           L5   \n",
       "1                  Aarhus                      2     Valid           H6   \n",
       "2                    Abee                      6     Valid          EH4   \n",
       "3                Acapulco                     10     Valid  Acapulcoite   \n",
       "4                 Achiras                    370     Valid           L6   \n",
       "\n",
       "   Mass (g)                 Year  Latitude  Longitude  \n",
       "0      21.0  1880-01-01 00:00:00  50.77500    6.08333  \n",
       "1     720.0  1951-01-01 00:00:00  56.18333   10.23333  \n",
       "2  107000.0  1952-01-01 00:00:00  54.21667 -113.00000  \n",
       "3    1914.0  1976-01-01 00:00:00  16.88333  -99.90000  \n",
       "4     780.0  1902-01-01 00:00:00 -33.16667  -64.95000  "
      ]
     },
     "execution_count": 98,
     "metadata": {},
     "output_type": "execute_result"
    }
   ],
   "source": [
    "df.head()"
   ]
  },
  {
   "cell_type": "code",
   "execution_count": 99,
   "id": "b8b12be2",
   "metadata": {},
   "outputs": [],
   "source": [
    "df = df.rename(columns={'Mass (g)': 'Mass'})\n",
    "df = df.rename(columns={'Name of Earth Meteorite': 'Name'})\n",
    "df = df.rename(columns={'ID of Earth Meteorite': 'ID'})"
   ]
  },
  {
   "cell_type": "code",
   "execution_count": 100,
   "id": "57f2f67e",
   "metadata": {},
   "outputs": [
    {
     "data": {
      "text/plain": [
       "(1000, 8)"
      ]
     },
     "execution_count": 100,
     "metadata": {},
     "output_type": "execute_result"
    }
   ],
   "source": [
    "df.shape"
   ]
  },
  {
   "cell_type": "code",
   "execution_count": 101,
   "id": "ecd01f8f",
   "metadata": {},
   "outputs": [
    {
     "name": "stdout",
     "output_type": "stream",
     "text": [
      "<class 'pandas.core.frame.DataFrame'>\n",
      "RangeIndex: 1000 entries, 0 to 999\n",
      "Data columns (total 8 columns):\n",
      " #   Column     Non-Null Count  Dtype  \n",
      "---  ------     --------------  -----  \n",
      " 0   Name       1000 non-null   object \n",
      " 1   ID         1000 non-null   int64  \n",
      " 2   Name Type  1000 non-null   object \n",
      " 3   Rec Class  1000 non-null   object \n",
      " 4   Mass       972 non-null    float64\n",
      " 5   Year       999 non-null    object \n",
      " 6   Latitude   988 non-null    float64\n",
      " 7   Longitude  988 non-null    float64\n",
      "dtypes: float64(3), int64(1), object(4)\n",
      "memory usage: 62.6+ KB\n"
     ]
    }
   ],
   "source": [
    "df.info()"
   ]
  },
  {
   "cell_type": "code",
   "execution_count": 102,
   "id": "2c7c61da",
   "metadata": {},
   "outputs": [
    {
     "data": {
      "text/html": [
       "<div>\n",
       "<style scoped>\n",
       "    .dataframe tbody tr th:only-of-type {\n",
       "        vertical-align: middle;\n",
       "    }\n",
       "\n",
       "    .dataframe tbody tr th {\n",
       "        vertical-align: top;\n",
       "    }\n",
       "\n",
       "    .dataframe thead th {\n",
       "        text-align: right;\n",
       "    }\n",
       "</style>\n",
       "<table border=\"1\" class=\"dataframe\">\n",
       "  <thead>\n",
       "    <tr style=\"text-align: right;\">\n",
       "      <th></th>\n",
       "      <th>Name</th>\n",
       "      <th>ID</th>\n",
       "      <th>Name Type</th>\n",
       "      <th>Rec Class</th>\n",
       "      <th>Mass</th>\n",
       "      <th>Year</th>\n",
       "      <th>Latitude</th>\n",
       "      <th>Longitude</th>\n",
       "    </tr>\n",
       "  </thead>\n",
       "  <tbody>\n",
       "    <tr>\n",
       "      <th>920</th>\n",
       "      <td>Sikhote-Alin</td>\n",
       "      <td>23593</td>\n",
       "      <td>Valid</td>\n",
       "      <td>Iron, IIAB</td>\n",
       "      <td>23000000.0</td>\n",
       "      <td>1947-01-01 00:00:00</td>\n",
       "      <td>46.16</td>\n",
       "      <td>134.65333</td>\n",
       "    </tr>\n",
       "  </tbody>\n",
       "</table>\n",
       "</div>"
      ],
      "text/plain": [
       "             Name     ID Name Type   Rec Class        Mass  \\\n",
       "920  Sikhote-Alin  23593     Valid  Iron, IIAB  23000000.0   \n",
       "\n",
       "                    Year  Latitude  Longitude  \n",
       "920  1947-01-01 00:00:00     46.16  134.65333  "
      ]
     },
     "execution_count": 102,
     "metadata": {},
     "output_type": "execute_result"
    }
   ],
   "source": [
    "df[df['Mass'] == 23000000.0]"
   ]
  },
  {
   "cell_type": "code",
   "execution_count": 103,
   "id": "b9788b5a",
   "metadata": {},
   "outputs": [
    {
     "data": {
      "text/plain": [
       "<seaborn.axisgrid.FacetGrid at 0x1e7571c8fd0>"
      ]
     },
     "execution_count": 103,
     "metadata": {},
     "output_type": "execute_result"
    },
    {
     "data": {
      "image/png": "[encoded data removed]",
      "text/plain": [
       "<Figure size 500x500 with 1 Axes>"
      ]
     },
     "metadata": {},
     "output_type": "display_data"
    }
   ],
   "source": [
    "sns.displot(data=df, x=\"Mass\", kind=\"kde\")"
   ]
  },
  {
   "cell_type": "code",
   "execution_count": 104,
   "id": "95f44ad0",
   "metadata": {},
   "outputs": [],
   "source": [
    "df.dropna(subset = ['Year', 'Latitude', 'Longitude','Mass'], inplace = True)"
   ]
  },
  {
   "cell_type": "code",
   "execution_count": 105,
   "id": "d43e1c83",
   "metadata": {},
   "outputs": [
    {
     "name": "stdout",
     "output_type": "stream",
     "text": [
      "<class 'pandas.core.frame.DataFrame'>\n",
      "Int64Index: 959 entries, 0 to 999\n",
      "Data columns (total 8 columns):\n",
      " #   Column     Non-Null Count  Dtype  \n",
      "---  ------     --------------  -----  \n",
      " 0   Name       959 non-null    object \n",
      " 1   ID         959 non-null    int64  \n",
      " 2   Name Type  959 non-null    object \n",
      " 3   Rec Class  959 non-null    object \n",
      " 4   Mass       959 non-null    float64\n",
      " 5   Year       959 non-null    object \n",
      " 6   Latitude   959 non-null    float64\n",
      " 7   Longitude  959 non-null    float64\n",
      "dtypes: float64(3), int64(1), object(4)\n",
      "memory usage: 67.4+ KB\n"
     ]
    }
   ],
   "source": [
    "df.info()"
   ]
  },
  {
   "attachments": {},
   "cell_type": "markdown",
   "id": "11425976",
   "metadata": {},
   "source": [
    "## Question 1"
   ]
  },
  {
   "cell_type": "code",
   "execution_count": 106,
   "id": "025c66d6",
   "metadata": {},
   "outputs": [
    {
     "data": {
      "text/plain": [
       "'1949-01-01 00:00:00'"
      ]
     },
     "execution_count": 106,
     "metadata": {},
     "output_type": "execute_result"
    }
   ],
   "source": [
    "df['Year'][100]\n"
   ]
  },
  {
   "cell_type": "code",
   "execution_count": 108,
   "id": "f08237f0",
   "metadata": {},
   "outputs": [],
   "source": [
    "## We need to extract only the year value from Year column\n",
    "df['Year'] = df['Year'].str.split('-').str[0]"
   ]
  },
  {
   "cell_type": "code",
   "execution_count": 110,
   "id": "5c6bb812",
   "metadata": {},
   "outputs": [],
   "source": [
    "names_before_2000 = df.loc[df['Year'].astype(int) < 2000, 'Name']"
   ]
  },
  {
   "cell_type": "code",
   "execution_count": 111,
   "id": "d21fc945",
   "metadata": {},
   "outputs": [
    {
     "data": {
      "text/plain": [
       "893"
      ]
     },
     "execution_count": 111,
     "metadata": {},
     "output_type": "execute_result"
    }
   ],
   "source": [
    "len(names_before_2000)"
   ]
  },
  {
   "cell_type": "code",
   "execution_count": 112,
   "id": "105e6160",
   "metadata": {},
   "outputs": [
    {
     "data": {
      "text/plain": [
       "0         Aachen\n",
       "1         Aarhus\n",
       "2           Abee\n",
       "3       Acapulco\n",
       "4        Achiras\n",
       "         ...    \n",
       "994     Timochin\n",
       "995     Tirupati\n",
       "997        Tjabe\n",
       "998     Tjerebon\n",
       "999    Tomakovka\n",
       "Name: Name, Length: 893, dtype: object"
      ]
     },
     "execution_count": 112,
     "metadata": {},
     "output_type": "execute_result"
    }
   ],
   "source": [
    "names_before_2000"
   ]
  },
  {
   "cell_type": "code",
   "execution_count": 113,
   "id": "2237941f",
   "metadata": {},
   "outputs": [
    {
     "data": {
      "text/html": [
       "<div>\n",
       "<style scoped>\n",
       "    .dataframe tbody tr th:only-of-type {\n",
       "        vertical-align: middle;\n",
       "    }\n",
       "\n",
       "    .dataframe tbody tr th {\n",
       "        vertical-align: top;\n",
       "    }\n",
       "\n",
       "    .dataframe thead th {\n",
       "        text-align: right;\n",
       "    }\n",
       "</style>\n",
       "<table border=\"1\" class=\"dataframe\">\n",
       "  <thead>\n",
       "    <tr style=\"text-align: right;\">\n",
       "      <th></th>\n",
       "      <th>Name</th>\n",
       "      <th>ID</th>\n",
       "      <th>Name Type</th>\n",
       "      <th>Rec Class</th>\n",
       "      <th>Mass</th>\n",
       "      <th>Year</th>\n",
       "      <th>Latitude</th>\n",
       "      <th>Longitude</th>\n",
       "    </tr>\n",
       "  </thead>\n",
       "  <tbody>\n",
       "    <tr>\n",
       "      <th>0</th>\n",
       "      <td>Aachen</td>\n",
       "      <td>1</td>\n",
       "      <td>Valid</td>\n",
       "      <td>L5</td>\n",
       "      <td>21.0</td>\n",
       "      <td>1880</td>\n",
       "      <td>50.77500</td>\n",
       "      <td>6.08333</td>\n",
       "    </tr>\n",
       "    <tr>\n",
       "      <th>1</th>\n",
       "      <td>Aarhus</td>\n",
       "      <td>2</td>\n",
       "      <td>Valid</td>\n",
       "      <td>H6</td>\n",
       "      <td>720.0</td>\n",
       "      <td>1951</td>\n",
       "      <td>56.18333</td>\n",
       "      <td>10.23333</td>\n",
       "    </tr>\n",
       "    <tr>\n",
       "      <th>2</th>\n",
       "      <td>Abee</td>\n",
       "      <td>6</td>\n",
       "      <td>Valid</td>\n",
       "      <td>EH4</td>\n",
       "      <td>107000.0</td>\n",
       "      <td>1952</td>\n",
       "      <td>54.21667</td>\n",
       "      <td>-113.00000</td>\n",
       "    </tr>\n",
       "    <tr>\n",
       "      <th>3</th>\n",
       "      <td>Acapulco</td>\n",
       "      <td>10</td>\n",
       "      <td>Valid</td>\n",
       "      <td>Acapulcoite</td>\n",
       "      <td>1914.0</td>\n",
       "      <td>1976</td>\n",
       "      <td>16.88333</td>\n",
       "      <td>-99.90000</td>\n",
       "    </tr>\n",
       "    <tr>\n",
       "      <th>4</th>\n",
       "      <td>Achiras</td>\n",
       "      <td>370</td>\n",
       "      <td>Valid</td>\n",
       "      <td>L6</td>\n",
       "      <td>780.0</td>\n",
       "      <td>1902</td>\n",
       "      <td>-33.16667</td>\n",
       "      <td>-64.95000</td>\n",
       "    </tr>\n",
       "  </tbody>\n",
       "</table>\n",
       "</div>"
      ],
      "text/plain": [
       "       Name   ID Name Type    Rec Class      Mass  Year  Latitude  Longitude\n",
       "0    Aachen    1     Valid           L5      21.0  1880  50.77500    6.08333\n",
       "1    Aarhus    2     Valid           H6     720.0  1951  56.18333   10.23333\n",
       "2      Abee    6     Valid          EH4  107000.0  1952  54.21667 -113.00000\n",
       "3  Acapulco   10     Valid  Acapulcoite    1914.0  1976  16.88333  -99.90000\n",
       "4   Achiras  370     Valid           L6     780.0  1902 -33.16667  -64.95000"
      ]
     },
     "execution_count": 113,
     "metadata": {},
     "output_type": "execute_result"
    }
   ],
   "source": [
    "df.head()"
   ]
  },
  {
   "attachments": {},
   "cell_type": "markdown",
   "id": "2278e02c",
   "metadata": {},
   "source": [
    "## Question 2"
   ]
  },
  {
   "cell_type": "code",
   "execution_count": 124,
   "id": "ac23d279",
   "metadata": {},
   "outputs": [],
   "source": [
    "# lat, long = df.loc[df['Year'].astype(int) < 2000]['Latitude','Longitude']\n",
    "new_df = df[df['Year'].astype(int) < 1970]"
   ]
  },
  {
   "cell_type": "code",
   "execution_count": 127,
   "id": "b685a1af",
   "metadata": {},
   "outputs": [],
   "source": [
    "coordinates = new_df[['Latitude', 'Longitude']]"
   ]
  },
  {
   "cell_type": "code",
   "execution_count": 128,
   "id": "9de8ebfd",
   "metadata": {},
   "outputs": [
    {
     "data": {
      "text/html": [
       "<div>\n",
       "<style scoped>\n",
       "    .dataframe tbody tr th:only-of-type {\n",
       "        vertical-align: middle;\n",
       "    }\n",
       "\n",
       "    .dataframe tbody tr th {\n",
       "        vertical-align: top;\n",
       "    }\n",
       "\n",
       "    .dataframe thead th {\n",
       "        text-align: right;\n",
       "    }\n",
       "</style>\n",
       "<table border=\"1\" class=\"dataframe\">\n",
       "  <thead>\n",
       "    <tr style=\"text-align: right;\">\n",
       "      <th></th>\n",
       "      <th>Latitude</th>\n",
       "      <th>Longitude</th>\n",
       "    </tr>\n",
       "  </thead>\n",
       "  <tbody>\n",
       "    <tr>\n",
       "      <th>0</th>\n",
       "      <td>50.77500</td>\n",
       "      <td>6.08333</td>\n",
       "    </tr>\n",
       "    <tr>\n",
       "      <th>1</th>\n",
       "      <td>56.18333</td>\n",
       "      <td>10.23333</td>\n",
       "    </tr>\n",
       "    <tr>\n",
       "      <th>2</th>\n",
       "      <td>54.21667</td>\n",
       "      <td>-113.00000</td>\n",
       "    </tr>\n",
       "    <tr>\n",
       "      <th>4</th>\n",
       "      <td>-33.16667</td>\n",
       "      <td>-64.95000</td>\n",
       "    </tr>\n",
       "    <tr>\n",
       "      <th>5</th>\n",
       "      <td>32.10000</td>\n",
       "      <td>71.80000</td>\n",
       "    </tr>\n",
       "    <tr>\n",
       "      <th>...</th>\n",
       "      <td>...</td>\n",
       "      <td>...</td>\n",
       "    </tr>\n",
       "    <tr>\n",
       "      <th>994</th>\n",
       "      <td>54.50000</td>\n",
       "      <td>35.20000</td>\n",
       "    </tr>\n",
       "    <tr>\n",
       "      <th>995</th>\n",
       "      <td>13.63333</td>\n",
       "      <td>79.41667</td>\n",
       "    </tr>\n",
       "    <tr>\n",
       "      <th>997</th>\n",
       "      <td>-7.08333</td>\n",
       "      <td>111.53333</td>\n",
       "    </tr>\n",
       "    <tr>\n",
       "      <th>998</th>\n",
       "      <td>-6.66667</td>\n",
       "      <td>106.58333</td>\n",
       "    </tr>\n",
       "    <tr>\n",
       "      <th>999</th>\n",
       "      <td>47.85000</td>\n",
       "      <td>34.76667</td>\n",
       "    </tr>\n",
       "  </tbody>\n",
       "</table>\n",
       "<p>750 rows × 2 columns</p>\n",
       "</div>"
      ],
      "text/plain": [
       "     Latitude  Longitude\n",
       "0    50.77500    6.08333\n",
       "1    56.18333   10.23333\n",
       "2    54.21667 -113.00000\n",
       "4   -33.16667  -64.95000\n",
       "5    32.10000   71.80000\n",
       "..        ...        ...\n",
       "994  54.50000   35.20000\n",
       "995  13.63333   79.41667\n",
       "997  -7.08333  111.53333\n",
       "998  -6.66667  106.58333\n",
       "999  47.85000   34.76667\n",
       "\n",
       "[750 rows x 2 columns]"
      ]
     },
     "execution_count": 128,
     "metadata": {},
     "output_type": "execute_result"
    }
   ],
   "source": [
    "coordinatesZ"
   ]
  },
  {
   "attachments": {},
   "cell_type": "markdown",
   "id": "66d7a670",
   "metadata": {},
   "source": [
    "## Question 3"
   ]
  },
  {
   "cell_type": "code",
   "execution_count": 144,
   "id": "43ef151e",
   "metadata": {},
   "outputs": [],
   "source": [
    "mass_df = df[df['Mass'] > 10000.0]"
   ]
  },
  {
   "cell_type": "code",
   "execution_count": 147,
   "id": "7f68fb95",
   "metadata": {},
   "outputs": [],
   "source": [
    "names_with_mass = mass_df['Name'].values"
   ]
  },
  {
   "cell_type": "code",
   "execution_count": 142,
   "id": "3d64a556",
   "metadata": {},
   "outputs": [],
   "source": [
    "# names_with_mass = names_with_mass['Name']"
   ]
  },
  {
   "cell_type": "code",
   "execution_count": 148,
   "id": "c2af3edb",
   "metadata": {},
   "outputs": [
    {
     "data": {
      "text/plain": [
       "array(['Abee', 'Agen', 'Aïr', 'Akyumak', 'Alfianello', 'Allegan',\n",
       "       'Allende', 'Andura', 'Appley Bridge', 'Aumale', 'Ausson',\n",
       "       'Bachmut', 'Bahjoi', 'Ban Rong Du', 'Bandong', 'Bansur', 'Barwell',\n",
       "       'Bassikounou', 'Baszkówka', 'Bath', 'Bath Furnace', 'Beardsley',\n",
       "       'Beaver Creek', 'Benguerir', \"Beni M'hira\", 'Bensour', 'Béréba',\n",
       "       'Bilanga', 'Bjurböle', 'Boguslavka', 'Braunau', 'Bruderheim',\n",
       "       'Bur-Gheluai', 'Bursa', 'Butsura', 'Buzzard Coulee',\n",
       "       'Cabezo de Mayo', 'Cabin Creek', 'Campos Sales', 'Cangas de Onis',\n",
       "       'Castrovillari', 'Chajari', 'Chantonnay', 'Charsonville',\n",
       "       'Charwallas', 'Château-Renard', 'Chelyabinsk', 'Chergach ',\n",
       "       'Colby (Wisconsin)', 'Conquista', 'Cumberland Falls', 'Dahmani',\n",
       "       'Demina', 'Dergaon', 'Desuri', 'Devgaon', 'Dhajala', 'Dhurmsala',\n",
       "       'Djati-Pengilon', 'Dong Ujimqin Qi', 'Dresden (Ontario)', 'Durala',\n",
       "       'El Paso de Aguila', 'Elbogen', 'Elenovka', 'Ensisheim', 'Ergheo',\n",
       "       'Estherville', 'Farmington', 'Farmville', 'Fermo', 'Fisher',\n",
       "       'Forest City', 'Forest Vale', 'Forsyth', 'Fuhe', 'Fukutomi',\n",
       "       'Gifu', 'Girgenti', 'Glasatovo', 'Gross-Divina', 'Gualeguaychú',\n",
       "       'Guareña', 'Gujba', 'Gursum', 'Hatford', 'Hessle', 'Holbrook',\n",
       "       'Homestead', 'Hraschina', 'Hvittis', 'Indarch', 'Jackalsfontein',\n",
       "       'Jartai', 'Jelica', 'Jianshi', 'Jilin', 'Johnstown', 'Juancheng',\n",
       "       'Jumapalo', 'Juromenha', 'Juvinas', 'Kabo', 'Kainsaz', 'Kapoeta',\n",
       "       'Karkh', 'Karoonda', 'Kasauli', 'Kayakent', 'Kernouve', 'Kesen',\n",
       "       'Khairpur', 'Kidairat', 'Kilabo', 'Knyahinya', 'Kokubunji',\n",
       "       'Krähenberg', 'Krymka', 'Kunashak', 'Kunya-Urgench', 'Kuttippuram',\n",
       "       'Kyushu', 'La Criolla', \"L'Aigle\", 'Lancé', 'Laochenzhen',\n",
       "       'Leedey', 'Limerick', 'Lissa', 'Lohawat', 'Lost City', 'Łowicz',\n",
       "       'Lundsgård', 'Luponnas', 'Machinga', 'Mahadevpur', 'Mangwendi',\n",
       "       'Marion (Iowa)', 'Marjalahti', 'Mauerkirchen', 'Mbale',\n",
       "       'Meester-Cornelis', 'Menow', 'Merua', 'Mezö-Madaras',\n",
       "       'Millbillillie', 'Miller (Arkansas)', 'Mocs', 'Modoc (1905)',\n",
       "       'Molina', 'Montferré', 'Mount Browne', 'Mount Tazerzait',\n",
       "       'Mount Vaisi', 'Murchison', 'Murray', 'Nakhon Pathom',\n",
       "       'Nan Yang Pao', 'Naoki', 'Nerft', 'New Concord', 'New Halfa',\n",
       "       'New Orleans', \"N'Goureyma\", 'Ningbo', \"N'Kandhla\",\n",
       "       'Norton County', 'Nuevo Mercurio', 'Ochansk', 'Ogi', 'Ohaba',\n",
       "       'Okniny', 'Oldenburg (1930)', 'Olivenza', 'Olmedilla de Alarcón',\n",
       "       'Omolon', 'Orgueil', 'Oum Dreyga', 'Ourique', 'Palinshih',\n",
       "       'Pampanga', 'Paragould', 'Paranaiba', 'Park Forest', 'Parnallee',\n",
       "       'Patwar', 'Pavlograd', 'Peace River', 'Peekskill',\n",
       "       'Peña Blanca Spring', 'Perpeti', 'Pervomaisky',\n",
       "       'Phillips County (stone)', 'Phuoc-Binh', 'Pillistfer',\n",
       "       'Piplia Kalan', 'Portales Valley', 'Pultusk', 'Putinga', 'Quesa',\n",
       "       'Quija', 'Raghunathpura', 'Rahimyar Khan', 'Rasgrad', 'Reliegos',\n",
       "       'Uzcudun', 'Richardton', 'Rose City', 'Ryechki', 'Saint-Sauveur',\n",
       "       'Saint-Séverin', 'Saratov', 'Seoni', 'Sevrukovo', 'Shelburne',\n",
       "       'Sikhote-Alin', 'Sivas', 'Soko-Banja', 'Sone', 'Songyuan',\n",
       "       \"St. Mark's\", 'St. Michel', 'Ställdalen', 'Stannern',\n",
       "       'Sterlitamak', 'Strathmore', 'Stretchleigh', 'St-Robert',\n",
       "       'Suizhou', 'Sulagiri', 'Tambakwatu', 'Tamdakht', 'Tatahouine',\n",
       "       'Tauti', 'Tenham', 'Tennasilm', 'Thika', 'Thuathe', 'Tieschitz',\n",
       "       'Tilden', 'Timochin', 'Tjabe', 'Tjerebon'], dtype=object)"
      ]
     },
     "execution_count": 148,
     "metadata": {},
     "output_type": "execute_result"
    }
   ],
   "source": [
    "names_with_mass"
   ]
  },
  {
   "cell_type": "code",
   "execution_count": null,
   "id": "1d05e3fa",
   "metadata": {},
   "outputs": [],
   "source": []
  }
 ],
 "metadata": {
  "kernelspec": {
   "display_name": "Python 3 (ipykernel)",
   "language": "python",
   "name": "python3"
  },
  "language_info": {
   "codemirror_mode": {
    "name": "ipython",
    "version": 3
   },
   "file_extension": ".py",
   "mimetype": "text/x-python",
   "name": "python",
   "nbconvert_exporter": "python",
   "pygments_lexer": "ipython3",
   "version": "3.10.9"
  }
 },
 "nbformat": 4,
 "nbformat_minor": 5
}
