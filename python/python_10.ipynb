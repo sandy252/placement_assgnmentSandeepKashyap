{
 "cells": [
  {
   "cell_type": "code",
   "execution_count": 1,
   "id": "8eacc1da",
   "metadata": {},
   "outputs": [],
   "source": [
    "import nltk\n",
    "from nltk.tokenize import word_tokenize\n",
    "from nltk.tag import pos_tag"
   ]
  },
  {
   "cell_type": "code",
   "execution_count": 2,
   "id": "14a3c71a",
   "metadata": {},
   "outputs": [],
   "source": [
    "phrase = \"hello my name is this and I am living in this area.\""
   ]
  },
  {
   "cell_type": "code",
   "execution_count": 3,
   "id": "7d3099be",
   "metadata": {},
   "outputs": [],
   "source": [
    "phrase_word = word_tokenize(phrase)"
   ]
  },
  {
   "cell_type": "code",
   "execution_count": 4,
   "id": "29cbd6bf",
   "metadata": {},
   "outputs": [
    {
     "data": {
      "text/plain": [
       "['hello',\n",
       " 'my',\n",
       " 'name',\n",
       " 'is',\n",
       " 'this',\n",
       " 'and',\n",
       " 'I',\n",
       " 'am',\n",
       " 'living',\n",
       " 'in',\n",
       " 'this',\n",
       " 'area',\n",
       " '.']"
      ]
     },
     "execution_count": 4,
     "metadata": {},
     "output_type": "execute_result"
    }
   ],
   "source": [
    "phrase_word"
   ]
  },
  {
   "cell_type": "code",
   "execution_count": 5,
   "id": "99ce0b39",
   "metadata": {},
   "outputs": [
    {
     "name": "stderr",
     "output_type": "stream",
     "text": [
      "[nltk_data] Downloading package averaged_perceptron_tagger to\n",
      "[nltk_data]     C:\\Users\\user1\\AppData\\Roaming\\nltk_data...\n",
      "[nltk_data]   Package averaged_perceptron_tagger is already up-to-\n",
      "[nltk_data]       date!\n"
     ]
    },
    {
     "data": {
      "text/plain": [
       "True"
      ]
     },
     "execution_count": 5,
     "metadata": {},
     "output_type": "execute_result"
    }
   ],
   "source": [
    "import nltk\n",
    "nltk.download('averaged_perceptron_tagger')"
   ]
  },
  {
   "cell_type": "code",
   "execution_count": 6,
   "id": "db0afdee",
   "metadata": {},
   "outputs": [],
   "source": [
    "tokens = word_tokenize(phrase)\n",
    "tagged_tokens = pos_tag(tokens)"
   ]
  },
  {
   "cell_type": "code",
   "execution_count": 7,
   "id": "f310f652",
   "metadata": {},
   "outputs": [],
   "source": [
    "counts = {\n",
    "        'verbs': 0,\n",
    "        'nouns': 0,\n",
    "        'pronouns': 0,\n",
    "        'adjectives': 0\n",
    "    }"
   ]
  },
  {
   "cell_type": "code",
   "execution_count": 8,
   "id": "ea554844",
   "metadata": {},
   "outputs": [],
   "source": [
    "for word, tag in tagged_tokens:\n",
    "        if tag.startswith('V'):\n",
    "            counts['verbs'] += 1\n",
    "        elif tag.startswith('N'):\n",
    "            counts['nouns'] += 1\n",
    "        elif tag == 'PRP' or tag == 'PRP$':\n",
    "            counts['pronouns'] += 1\n",
    "        elif tag.startswith('JJ'):\n",
    "            counts['adjectives'] += 1"
   ]
  },
  {
   "cell_type": "code",
   "execution_count": null,
   "id": "6e3db780",
   "metadata": {},
   "outputs": [],
   "source": [
    "print(counts)"
   ]
  },
  {
   "cell_type": "code",
   "execution_count": null,
   "id": "28d2852c",
   "metadata": {},
   "outputs": [],
   "source": []
  }
 ],
 "metadata": {
  "kernelspec": {
   "display_name": "Python 3 (ipykernel)",
   "language": "python",
   "name": "python3"
  },
  "language_info": {
   "codemirror_mode": {
    "name": "ipython",
    "version": 3
   },
   "file_extension": ".py",
   "mimetype": "text/x-python",
   "name": "python",
   "nbconvert_exporter": "python",
   "pygments_lexer": "ipython3",
   "version": "3.10.9"
  }
 },
 "nbformat": 4,
 "nbformat_minor": 5
}
